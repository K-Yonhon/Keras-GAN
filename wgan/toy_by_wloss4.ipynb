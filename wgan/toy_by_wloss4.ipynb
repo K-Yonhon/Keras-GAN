{
 "cells": [
  {
   "cell_type": "code",
   "execution_count": 1,
   "metadata": {},
   "outputs": [],
   "source": [
    "from keras.datasets import mnist, cifar100\n",
    "from sklearn.datasets import fetch_lfw_people, fetch_olivetti_faces\n",
    "from keras.layers import Input, Dense, Reshape, Flatten, Dropout\n",
    "from keras.layers import BatchNormalization, Activation, ZeroPadding2D\n",
    "from keras.layers.advanced_activations import LeakyReLU, ReLU\n",
    "from keras.layers.convolutional import (\n",
    "    UpSampling2D,\n",
    "    Conv2D,\n",
    "    Conv2DTranspose,\n",
    "    MaxPooling2D,\n",
    "    AveragePooling2D,\n",
    ")\n",
    "from keras.models import Sequential, Model\n",
    "from keras.optimizers import Adam, SGD, RMSprop\n",
    "import keras\n",
    "import tensorflow as tf\n",
    "import tensorflow_probability as tfp\n",
    "import keras.backend as K\n",
    "import keras.backend.tensorflow_backend as KTF\n",
    "\n",
    "import shutil, os, sys, io, random\n",
    "import numpy as np\n",
    "import matplotlib.pyplot as plt\n",
    "from PIL import Image\n",
    "os.chdir('/home/k_yonhon/py/Keras-GAN/wgan/')\n",
    "\n",
    "from tensor_board_logger import TensorBoardLogger\n",
    "from layer_visualizer import LayerVisualizer\n",
    "from tqdm import tqdm\n",
    "\n",
    "config = tf.ConfigProto(gpu_options=tf.GPUOptions(allow_growth=True))\n",
    "session = tf.Session(config=config)\n",
    "KTF.set_session(session)"
   ]
  },
  {
   "cell_type": "code",
   "execution_count": 2,
   "metadata": {
    "collapsed": false,
    "editable": true
   },
   "outputs": [],
   "source": [
    "from collections import OrderedDict\n",
    "ds = tfp.distributions\n",
    "slim = tf.contrib.slim\n",
    "\n",
    "# import moviepy.editor as mpyでエラーがでるため使用せず。\n",
    "# try:\n",
    "#     from moviepy.video.io.bindings import mplfig_to_npimage\n",
    "#     import moviepy.editor as mpy\n",
    "#     generate_movie = True\n",
    "# except:\n",
    "#     print(\"Warning: moviepy not found.\")\n",
    "generate_movie = False\n",
    "    \n",
    "from tensorflow.contrib import graph_editor"
   ]
  },
  {
   "cell_type": "code",
   "execution_count": 3,
   "metadata": {},
   "outputs": [],
   "source": [
    "def sample_mog(batch_size, n_mixture=8, std=0.01, radius=1.0):\n",
    "    thetas = np.linspace(0, 2 * np.pi, n_mixture)\n",
    "    xs, ys = radius * np.sin(thetas), radius * np.cos(thetas)\n",
    "    cat = ds.Categorical(tf.zeros(n_mixture))\n",
    "    comps = [ds.MultivariateNormalDiag([xi, yi], [std, std]) for xi, yi in zip(xs.ravel(), ys.ravel())]\n",
    "    # MultivariateNormalDiag呼び出しでエラー。ただし現状numpy内部でnp.asscalar(a)をa.item()にswapしており実害なし。\n",
    "    data = ds.Mixture(cat, comps)\n",
    "    return data.sample(batch_size)\n",
    "    # 半径1の円周上8点を中心とした8個の正規分布からbatch_size個の点をサンプリング"
   ]
  },
  {
   "cell_type": "code",
   "execution_count": 4,
   "metadata": {},
   "outputs": [],
   "source": [
    "class GAN():\n",
    "    def __init__(self):\n",
    "        target_dir = './my_log_dir_toy4'\n",
    "        shutil.rmtree(target_dir, ignore_errors=True)\n",
    "        os.mkdir(target_dir)\n",
    "        self.logger = TensorBoardLogger(log_dir=target_dir)\n",
    "        \n",
    "        # ---------------------\n",
    "        #  Parameter\n",
    "        # ---------------------\n",
    "        self.unrolling_steps = 0\n",
    "        self.n_critic = 5\n",
    "        # self.clip_value = 0.01\n",
    "        self.λ = 10\n",
    "\n",
    "        self.img_dim = 2 #生成画像の次元\n",
    "        self.latent_dim = 256 # Noiseの次元\n",
    "        optimizer_disc = Adam(lr=1e-4, beta_1=0.5, epsilon=1e-8)\n",
    "        optimizer_gen = Adam(lr=1e-3, beta_1=0.5, epsilon=1e-8)\n",
    "        # optimizer = Adam(lr=1e-6, beta_1=0.5, epsilon=1e-8) # tried lr=1e-4, 1e-5, -6\n",
    "        # optimizer = RMSprop(lr=0.00005)\n",
    "\n",
    "        self.discriminator = self.build_discriminator()\n",
    "        self.generator = self.build_generator()\n",
    "        \n",
    "        # https://github.com/tjwei/GANotebooks/blob/master/wgan2-keras.ipynb  \n",
    "        # https://keras.io/ja/backend/#function\n",
    "        img = Input(shape=(self.img_dim,))\n",
    "        noise = Input(shape=(self.latent_dim,))\n",
    "        gen_img = self.generator(noise)\n",
    "\n",
    "        ϵ_input = K.placeholder(shape=(None,1,1,1))\n",
    "        mixed_img = Input(shape=(self.img_dim,), tensor=ϵ_input * img + (1-ϵ_input) * gen_img)\n",
    "        \n",
    "        loss_real = K.mean(self.discriminator(img))\n",
    "        loss_fake = K.mean(self.discriminator(gen_img))\n",
    "\n",
    "        grad_mixed = K.gradients(self.discriminator(mixed_img), [mixed_img])[0]\n",
    "        norm_grad_mixed = K.sqrt(K.sum(K.square(grad_mixed), axis=[1,2,3]))\n",
    "        grad_penalty = K.mean(K.square(norm_grad_mixed -1))        \n",
    "        \n",
    "        loss = loss_fake - loss_real + self.λ * grad_penalty\n",
    "        training_updates = optimizer_disc.get_updates(self.discriminator.trainable_weights, [], loss)\n",
    "        self.discriminator_train = K.function([img, noise, ϵ_input], [loss], training_updates)\n",
    "\n",
    "        loss = -loss_fake\n",
    "        training_updates = optimizer_gen.get_updates(self.generator.trainable_weights, [], loss)\n",
    "        self.generator_train = K.function([noise], [loss], training_updates)\n",
    "        \n",
    "    def build_generator(self):\n",
    "        model = Sequential()\n",
    "        model.add(Dense(128,\n",
    "                        kernel_initializer=keras.initializers.Orthogonal(gain=1.4, seed=None),\n",
    "                        activation='tanh'))\n",
    "        model.add(Dense(128,\n",
    "                        kernel_initializer=keras.initializers.Orthogonal(gain=1.4, seed=None),\n",
    "                        activation='tanh'))\n",
    "        model.add(Dense(2,\n",
    "                        kernel_initializer=keras.initializers.Orthogonal(gain=1.4, seed=None),\n",
    "                       ))\n",
    "        # model.summary()\n",
    "        noise = Input(shape=(self.latent_dim,))\n",
    "        img = model(noise)\n",
    "        return Model(noise, img)\n",
    "    \n",
    "    def build_discriminator(self):\n",
    "        model = Sequential()\n",
    "        # model.add(Flatten(input_shape=self.img_shape))\n",
    "        model.add(Dense(128,\n",
    "                        kernel_initializer=keras.initializers.Orthogonal(gain=1.4, seed=None),\n",
    "                        activation='tanh'))\n",
    "        model.add(Dense(128,\n",
    "                        kernel_initializer=keras.initializers.Orthogonal(gain=1.4, seed=None),\n",
    "                        activation='tanh'))\n",
    "        model.add(Dense(1,\n",
    "                        kernel_initializer=keras.initializers.Orthogonal(gain=1.4, seed=None),\n",
    "                       ))\n",
    "        # model.summary()\n",
    "        img = Input(shape=(self.img_dim,))\n",
    "        validity = model(img)\n",
    "        return Model(img, validity)\n",
    "    \n",
    "    def train(self, epochs, batch_size=128, sample_interval=50):     \n",
    "        frames = []\n",
    "        np_samples = []\n",
    "        X_train = tf.Session().run(sample_mog(60000))\n",
    "        ϵ_input = K.placeholder(shape=(None,1,1,1))\n",
    "        \n",
    "        for epoch in tqdm(range(epochs + 1)):\n",
    "            # ---------------------\n",
    "            #  Train Discriminator\n",
    "            # ---------------------\n",
    "            for _ in range(self.n_critic):\n",
    "                # Generate a batch of new images\n",
    "                idx = np.random.randint(0, X_train.shape[0], batch_size)\n",
    "                imgs = X_train[idx]\n",
    "\n",
    "                # Generate a batch of new images\n",
    "                noise = np.random.normal(0, 1, (batch_size, self.latent_dim))\n",
    "                # gen_imgs = self.generator.predict(noise)\n",
    "              \n",
    "                d_loss, = self.discriminator_train([imgs, noise, ϵ_input])\n",
    "                \n",
    "                # Clip critic weights\n",
    "                # for l in self.discriminator.layers:\n",
    "                #     # discriminator各層の重さを取得し、範囲外の値を最小値、最大値に置換\n",
    "                #     weights = l.get_weights()\n",
    "                #     weights = [np.clip(w, -self.clip_value, self.clip_value) for w in weights]\n",
    "                #     l.set_weights(weights)\n",
    "\n",
    "            # ---------------------\n",
    "            #  Train Generator\n",
    "            # ---------------------\n",
    "            noise = np.random.normal(0, 1, (batch_size, self.latent_dim))\n",
    "            g_loss, = self.generator_train([noise])\n",
    "\n",
    "            # ---------------------\n",
    "            #  Log\n",
    "            # ---------------------                 \n",
    "            logs = {'Discriminator/loss': d_loss, 'Generator/loss': g_loss}\n",
    "            histograms = {}\n",
    "            for layer in self.discriminator.layers[1].layers:\n",
    "                if 'conv' in layer.name or 'dense' in layer.name:\n",
    "                    for i in range(len(layer.get_weights())):\n",
    "                        name = layer.name + '/' + str(i)\n",
    "                        value = layer.get_weights()[i]\n",
    "                        histograms[name] = value\n",
    "            self.logger.log(logs=logs, histograms=histograms, epoch=epoch)\n",
    "            \n",
    "            if epoch % sample_interval == 0:\n",
    "                gen_imgs = self.generator.predict(noise)\n",
    "                print (\"%d [D loss: %f] [G loss: %f]\" % (epoch, d_loss, g_loss)) \n",
    "                np_samples.append(np.vstack(gen_imgs)) # 縦方向(vertical)に連結\n",
    "                xx = gen_imgs\n",
    "                yy = imgs\n",
    "                fig = figure(figsize=(5,5))\n",
    "                scatter(xx[:, 0], xx[:, 1], edgecolor='none')\n",
    "                scatter(yy[:, 0], yy[:, 1], c='g')\n",
    "                axis('off')\n",
    "                if generate_movie:\n",
    "                    frames.append(mplfig_to_npimage(fig))\n",
    "                show()\n",
    "\n",
    "        return np_samples\n",
    "\n",
    "    def sample_images(self, epoch):\n",
    "        r, c = 5, 5\n",
    "        noise = np.random.normal(0, 1, (r * c, self.latent_dim))\n",
    "        gen_imgs = self.generator.predict(noise)\n",
    "\n",
    "        # Rescale images 0 - 1\n",
    "        gen_imgs = 0.5 * gen_imgs + 0.5\n",
    "        fig, axs = plt.subplots(r, c)\n",
    "        cnt = 0\n",
    "        for i in range(r):\n",
    "            for j in range(c):\n",
    "                axs[i,j].imshow(gen_imgs[cnt, :,:,0], cmap='gray')\n",
    "                axs[i,j].axis('off')\n",
    "                cnt += 1\n",
    "        name = str(epoch) + '.png'\n",
    "        return fig, name\n",
    "        # fig.savefig(\"images/%d.png\" % epoch)\n",
    "        # plt.close()"
   ]
  },
  {
   "cell_type": "code",
   "execution_count": 5,
   "metadata": {},
   "outputs": [],
   "source": [
    "gan = GAN()"
   ]
  },
  {
   "cell_type": "code",
   "execution_count": 6,
   "metadata": {},
   "outputs": [],
   "source": [
    "import warnings\n",
    "warnings.filterwarnings('ignore')"
   ]
  },
  {
   "cell_type": "code",
   "execution_count": null,
   "metadata": {},
   "outputs": [
    {
     "name": "stdout",
     "output_type": "stream",
     "text": [
      "Populating the interactive namespace from numpy and matplotlib\n"
     ]
    },
    {
     "name": "stderr",
     "output_type": "stream",
     "text": [
      "  0%|          | 0/100001 [00:00<?, ?it/s]"
     ]
    },
    {
     "name": "stdout",
     "output_type": "stream",
     "text": [
      "0 [D loss: 0.000012] [G loss: -0.000250]\n"
     ]
    },
    {
     "data": {
      "image/png": "[encoded data removed]",
      "text/plain": [
       "<Figure size 360x360 with 1 Axes>"
      ]
     },
     "metadata": {
      "needs_background": "light"
     },
     "output_type": "display_data"
    },
    {
     "name": "stderr",
     "output_type": "stream",
     "text": [
      "  0%|          | 10/100001 [00:03<5:07:00,  5.43it/s]"
     ]
    }
   ],
   "source": [
    "%pylab inline\n",
    "np_samples = gan.train(epochs=100000, batch_size=512, sample_interval=5000)"
   ]
  },
  {
   "cell_type": "code",
   "execution_count": 8,
   "metadata": {
    "collapsed": false,
    "editable": true
   },
   "outputs": [
    {
     "ename": "NameError",
     "evalue": "name 'np_samples' is not defined",
     "output_type": "error",
     "traceback": [
      "\u001b[0;31m---------------------------------------------------------------------------\u001b[0m",
      "\u001b[0;31mNameError\u001b[0m                                 Traceback (most recent call last)",
      "\u001b[0;32m<ipython-input-8-7d61246adff7>\u001b[0m in \u001b[0;36m<module>\u001b[0;34m\u001b[0m\n\u001b[1;32m      1\u001b[0m \u001b[0;32mimport\u001b[0m \u001b[0mseaborn\u001b[0m \u001b[0;32mas\u001b[0m \u001b[0msns\u001b[0m\u001b[0;34m\u001b[0m\u001b[0;34m\u001b[0m\u001b[0m\n\u001b[0;32m----> 2\u001b[0;31m \u001b[0mnp_samples_\u001b[0m \u001b[0;34m=\u001b[0m \u001b[0mnp_samples\u001b[0m\u001b[0;34m[\u001b[0m\u001b[0;34m:\u001b[0m\u001b[0;34m:\u001b[0m\u001b[0;36m1\u001b[0m\u001b[0;34m]\u001b[0m\u001b[0;34m\u001b[0m\u001b[0;34m\u001b[0m\u001b[0m\n\u001b[0m\u001b[1;32m      3\u001b[0m \u001b[0mcols\u001b[0m \u001b[0;34m=\u001b[0m \u001b[0mlen\u001b[0m\u001b[0;34m(\u001b[0m\u001b[0mnp_samples_\u001b[0m\u001b[0;34m)\u001b[0m\u001b[0;34m\u001b[0m\u001b[0;34m\u001b[0m\u001b[0m\n\u001b[1;32m      4\u001b[0m \u001b[0mbg_color\u001b[0m  \u001b[0;34m=\u001b[0m \u001b[0msns\u001b[0m\u001b[0;34m.\u001b[0m\u001b[0mcolor_palette\u001b[0m\u001b[0;34m(\u001b[0m\u001b[0;34m'Greens'\u001b[0m\u001b[0;34m,\u001b[0m \u001b[0mn_colors\u001b[0m\u001b[0;34m=\u001b[0m\u001b[0;36m256\u001b[0m\u001b[0;34m)\u001b[0m\u001b[0;34m[\u001b[0m\u001b[0;36m0\u001b[0m\u001b[0;34m]\u001b[0m\u001b[0;34m\u001b[0m\u001b[0;34m\u001b[0m\u001b[0m\n\u001b[1;32m      5\u001b[0m \u001b[0mfigure\u001b[0m\u001b[0;34m(\u001b[0m\u001b[0mfigsize\u001b[0m\u001b[0;34m=\u001b[0m\u001b[0;34m(\u001b[0m\u001b[0;36m2\u001b[0m\u001b[0;34m*\u001b[0m\u001b[0mcols\u001b[0m\u001b[0;34m,\u001b[0m \u001b[0;36m2\u001b[0m\u001b[0;34m)\u001b[0m\u001b[0;34m)\u001b[0m\u001b[0;34m\u001b[0m\u001b[0;34m\u001b[0m\u001b[0m\n",
      "\u001b[0;31mNameError\u001b[0m: name 'np_samples' is not defined"
     ]
    }
   ],
   "source": [
    "import seaborn as sns\n",
    "np_samples_ = np_samples[::1]\n",
    "cols = len(np_samples_)\n",
    "bg_color  = sns.color_palette('Greens', n_colors=256)[0]\n",
    "figure(figsize=(2*cols, 2))\n",
    "for i, samps in enumerate(np_samples_):\n",
    "    if i == 0:\n",
    "        ax = subplot(1,cols,1)\n",
    "    else:\n",
    "        subplot(1,cols,i+1, sharex=ax, sharey=ax)\n",
    "    ax2 = sns.kdeplot(samps[:, 0], samps[:, 1], shade=True, cmap='Greens', n_levels=20, clip=[[-3, 3]]*2)\n",
    "    ax2.set_facecolor(bg_color)\n",
    "    xticks([]); yticks([])\n",
    "    title('step %d'%(i*5000))\n",
    "ax.set_ylabel('%d unrolling steps'%gan.unrolling_steps)\n",
    "gcf().tight_layout()"
   ]
  },
  {
   "cell_type": "raw",
   "metadata": {},
   "source": [
    "model = gan.generator.layers[1]\n",
    "model.summary()"
   ]
  },
  {
   "cell_type": "raw",
   "metadata": {},
   "source": [
    "gan.generator.save('./saved_model/gan_by_cnnT_generator.h5')\n",
    "gan.discriminator.save('./saved_model/gan_by_cnnT_discriminator.h5')\n",
    "gan.combined.save('./saved_model/gan_by_cnnT_combined.h5')"
   ]
  },
  {
   "cell_type": "raw",
   "metadata": {},
   "source": [
    "for layer_name in ['dense_10', 'dense_11', 'dense_12']:\n",
    "    LayerVisualizer(model, layer_name)"
   ]
  }
 ],
 "metadata": {
  "kernelspec": {
   "display_name": "Python 3",
   "language": "python",
   "name": "python3"
  },
  "language_info": {
   "codemirror_mode": {
    "name": "ipython",
    "version": 3
   },
   "file_extension": ".py",
   "mimetype": "text/x-python",
   "name": "python",
   "nbconvert_exporter": "python",
   "pygments_lexer": "ipython3",
   "version": "3.6.8"
  }
 },
 "nbformat": 4,
 "nbformat_minor": 2
}
