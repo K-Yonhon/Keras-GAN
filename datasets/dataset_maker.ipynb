{
 "cells": [
  {
   "cell_type": "code",
   "execution_count": 1,
   "metadata": {},
   "outputs": [
    {
     "name": "stderr",
     "output_type": "stream",
     "text": [
      "Using TensorFlow backend.\n"
     ]
    }
   ],
   "source": [
    "import os\n",
    "import glob\n",
    "import pandas as pd\n",
    "import numpy as np\n",
    "from keras.preprocessing import image"
   ]
  },
  {
   "cell_type": "code",
   "execution_count": 2,
   "metadata": {},
   "outputs": [
    {
     "data": {
      "text/html": [
       "<div>\n",
       "<style scoped>\n",
       "    .dataframe tbody tr th:only-of-type {\n",
       "        vertical-align: middle;\n",
       "    }\n",
       "\n",
       "    .dataframe tbody tr th {\n",
       "        vertical-align: top;\n",
       "    }\n",
       "\n",
       "    .dataframe thead th {\n",
       "        text-align: right;\n",
       "    }\n",
       "</style>\n",
       "<table border=\"1\" class=\"dataframe\">\n",
       "  <thead>\n",
       "    <tr style=\"text-align: right;\">\n",
       "      <th></th>\n",
       "      <th>filename</th>\n",
       "    </tr>\n",
       "  </thead>\n",
       "  <tbody>\n",
       "    <tr>\n",
       "      <td>0</td>\n",
       "      <td>Raoul_Ruiz_0002.jpg</td>\n",
       "    </tr>\n",
       "    <tr>\n",
       "      <td>1</td>\n",
       "      <td>Tony_Blair_0086.jpg</td>\n",
       "    </tr>\n",
       "    <tr>\n",
       "      <td>2</td>\n",
       "      <td>Tom_Cruise_0002.jpg</td>\n",
       "    </tr>\n",
       "    <tr>\n",
       "      <td>3</td>\n",
       "      <td>Bill_Paxton_0001.jpg</td>\n",
       "    </tr>\n",
       "    <tr>\n",
       "      <td>4</td>\n",
       "      <td>Satnarine_Sharma_0001.jpg</td>\n",
       "    </tr>\n",
       "  </tbody>\n",
       "</table>\n",
       "</div>"
      ],
      "text/plain": [
       "                    filename\n",
       "0        Raoul_Ruiz_0002.jpg\n",
       "1        Tony_Blair_0086.jpg\n",
       "2        Tom_Cruise_0002.jpg\n",
       "3       Bill_Paxton_0001.jpg\n",
       "4  Satnarine_Sharma_0001.jpg"
      ]
     },
     "execution_count": 2,
     "metadata": {},
     "output_type": "execute_result"
    }
   ],
   "source": [
    "dataset_name = \"lfw\"\n",
    "current_dir = \"/home/k_yonhon/py/Keras-GAN/datasets/\"\n",
    "img_dir = os.path.join(current_dir, dataset_name)\n",
    "os.chdir(img_dir)\n",
    "imgs = glob.glob(\"./*\")\n",
    "df_imgs = pd.DataFrame(imgs, columns=['filename'])\n",
    "df_imgs['filename'] = df_imgs['filename'].str.replace(r\".\\\\\", \"\", regex=True).replace(\"./\", \"\", regex=True)\n",
    "df_imgs.head()"
   ]
  },
  {
   "cell_type": "code",
   "execution_count": 3,
   "metadata": {},
   "outputs": [],
   "source": [
    "num = len(df_imgs)\n",
    "size = 128\n",
    "channel = 3\n",
    "df_dataset = np.zeros((num, size, size, channel), dtype=float)\n",
    "for i in range(num):\n",
    "    X = df_imgs['filename'][i]\n",
    "    img_path = os.path.join(img_dir, X)\n",
    "    img = image.load_img(img_path, target_size=(size, size))\n",
    "    img_tensor = image.img_to_array(img)\n",
    "    # img_tensor = np.expand_dims(img_tensor, axis=0)\n",
    "    img_tensor.shape\n",
    "    df_dataset[i] = img_tensor"
   ]
  },
  {
   "cell_type": "code",
   "execution_count": 4,
   "metadata": {},
   "outputs": [
    {
     "data": {
      "text/plain": [
       "(13233, 128, 128, 3)"
      ]
     },
     "execution_count": 4,
     "metadata": {},
     "output_type": "execute_result"
    }
   ],
   "source": [
    "df_dataset.shape"
   ]
  },
  {
   "cell_type": "raw",
   "metadata": {},
   "source": [
    "np.save(current_dir+dataset_name+str(size)+\".npy\", df_dataset)"
   ]
  },
  {
   "cell_type": "code",
   "execution_count": 5,
   "metadata": {},
   "outputs": [],
   "source": [
    "np.savez_compressed(current_dir+dataset_name+str(size)+\".npz\", df_dataset)"
   ]
  },
  {
   "cell_type": "code",
   "execution_count": null,
   "metadata": {},
   "outputs": [],
   "source": []
  }
 ],
 "metadata": {
  "kernelspec": {
   "display_name": "Python 3",
   "language": "python",
   "name": "python3"
  },
  "language_info": {
   "codemirror_mode": {
    "name": "ipython",
    "version": 3
   },
   "file_extension": ".py",
   "mimetype": "text/x-python",
   "name": "python",
   "nbconvert_exporter": "python",
   "pygments_lexer": "ipython3",
   "version": "3.6.9"
  }
 },
 "nbformat": 4,
 "nbformat_minor": 4
}
