{
 "cells": [
  {
   "cell_type": "code",
   "execution_count": null,
   "metadata": {},
   "outputs": [],
   "source": [
    "from keras.datasets import mnist\n",
    "from keras.layers import Input, Dense, Reshape, Flatten, Dropout\n",
    "from keras.layers import BatchNormalization, Activation, ZeroPadding2D\n",
    "from keras.layers.advanced_activations import LeakyReLU\n",
    "from keras.layers.convolutional import UpSampling2D, Conv2D\n",
    "from keras.models import Sequential, Model\n",
    "from keras.optimizers import Adam"
   ]
  },
  {
   "cell_type": "code",
   "execution_count": null,
   "metadata": {},
   "outputs": [],
   "source": [
    "import matplotlib.pyplot as plt"
   ]
  },
  {
   "cell_type": "code",
   "execution_count": null,
   "metadata": {},
   "outputs": [],
   "source": [
    "import sys"
   ]
  },
  {
   "cell_type": "code",
   "execution_count": null,
   "metadata": {},
   "outputs": [],
   "source": [
    "import numpy as np"
   ]
  },
  {
   "cell_type": "code",
   "execution_count": null,
   "metadata": {},
   "outputs": [],
   "source": [
    "class GAN():\n",
    "    def __init__(self):\n",
    "        self.img_rows = 28\n",
    "        self.img_cols = 28\n",
    "        self.channels = 1\n",
    "        self.img_shape = (self.img_rows, self.img_cols, self.channels)\n",
    "        self.latent_dim = 100 # Noiseの次元を決めている。\n",
    "        optimizer = Adam(0.0002, 0.5)\n",
    "\n",
    "        # Build and compile the discriminator\n",
    "        self.discriminator = self.build_discriminator()\n",
    "        self.discriminator.trainable = True       \n",
    "        self.discriminator.compile(loss='binary_crossentropy',\n",
    "            optimizer=optimizer,\n",
    "            metrics=['accuracy'])\n",
    "\n",
    "        # Build the generator\n",
    "        self.generator = self.build_generator()\n",
    "\n",
    "        # The generator takes noise as input and generates imgs\n",
    "        z = Input(shape=(self.latent_dim,))\n",
    "        img = self.generator(z)\n",
    "\n",
    "        # The discriminator takes generated images as input and determines validity\n",
    "        validity = self.discriminator(img)\n",
    "        \n",
    "        # The combined model  (stacked generator and discriminator)\n",
    "        # Trains the generator to fool the discriminator\n",
    "        self.combined = Model(z, validity)\n",
    "              \n",
    "        # functional APIの使い方\n",
    "        # validity = self.discriminator(img) <- img = self.generator(z) <- z\n",
    "        # cf. https://qiita.com/Mco7777/items/1339d01bc6ef028e7b44\n",
    "        # my_dense = Dense(5)\n",
    "        # model_input = Input(shape=(5,))\n",
    "        # mid = my_dense(model_input)\n",
    "        # mid2 = my_dense(mid)\n",
    "        # output = Activation('softmax')(mid2)\n",
    "        # model = Model(inputs=model_input, outputs=output)\n",
    "        # つまり、ここのModelはbuild_generator、build_discriminatorのModelとは別。\n",
    "        # function APIを使わない方法は以下を参照。\n",
    "        # https://qiita.com/triwave33/items/1890ccc71fab6cbca87e\n",
    "\n",
    "        # For the combined model we will only train the generator\n",
    "        # <plan_A>\n",
    "        self.discriminator.trainable = False\n",
    "        # <plan_B layer.nameは都度変わるので名前での指定はできなかった。>\n",
    "        # count = 0\n",
    "        # for layer in self.combined.layers:\n",
    "        #     if count == 2:\n",
    "        #         layer.trainable = False\n",
    "        #     count += 1\n",
    "        \n",
    "        # Model#compile() は、呼び出されると内包しているLayer全てからtrainable_weights\n",
    "        # を回収する動きをするため、compile()前のtrainableの指定が有効とのことから、\n",
    "        # plan_Aで、combined modelだけtrainable=Falseにできると考えられる。\n",
    "        # https://qiita.com/mokemokechicken/items/937a82cfdc31e9a6ca12\n",
    "        # しかし、discriminatorのsummary()のパラメーターが2倍になってしまう。\n",
    "        # Plan_AでもPlan_Bも同様。\n",
    "        # 12-14行目を62行目以降に持って方法では、combinedのNon-trainがおかしくなる。\n",
    "        \n",
    "        self.combined.compile(loss='binary_crossentropy', optimizer=optimizer, metrics=['accuracy'])\n",
    "        \n",
    "    def build_generator(self):\n",
    "        model = Sequential()\n",
    "        model.add(Dense(256, input_dim=self.latent_dim))\n",
    "        model.add(LeakyReLU(alpha=0.2))\n",
    "        model.add(BatchNormalization(momentum=0.8))\n",
    "        model.add(Dense(512))\n",
    "        model.add(LeakyReLU(alpha=0.2))\n",
    "        model.add(BatchNormalization(momentum=0.8))\n",
    "        model.add(Dense(1024))\n",
    "        model.add(LeakyReLU(alpha=0.2))\n",
    "        model.add(BatchNormalization(momentum=0.8))\n",
    "        model.add(Dense(np.prod(self.img_shape), activation='tanh')) # activation='tanh'なので-1,1の範囲の値を持つ。\n",
    "        model.add(Reshape(self.img_shape))\n",
    "        model.summary()\n",
    "        noise = Input(shape=(self.latent_dim,))\n",
    "        img = model(noise)\n",
    "        return Model(noise, img)\n",
    "    \n",
    "    def build_discriminator(self):\n",
    "        model = Sequential()\n",
    "        model.add(Flatten(input_shape=self.img_shape))\n",
    "        model.add(Dense(512))\n",
    "        model.add(LeakyReLU(alpha=0.2))\n",
    "        model.add(Dense(256))\n",
    "        model.add(LeakyReLU(alpha=0.2))\n",
    "        model.add(Dense(1, activation='sigmoid'))\n",
    "        model.summary()\n",
    "        img = Input(shape=self.img_shape)\n",
    "        validity = model(img)\n",
    "        return Model(img, validity)\n",
    "    \n",
    "    def train(self, epochs, batch_size=128, sample_interval=50):\n",
    "\n",
    "        # Load the dataset\n",
    "        (X_train, _), (_, _) = mnist.load_data()\n",
    "\n",
    "        # Rescale -1 to 1\n",
    "        X_train = X_train / 127.5 - 1.\n",
    "        X_train = np.expand_dims(X_train, axis=3) # Insert a new axis.\n",
    "\n",
    "        # Adversarial ground truths\n",
    "        valid = np.ones((batch_size, 1))\n",
    "        fake = np.zeros((batch_size, 1))\n",
    "        for epoch in range(epochs):\n",
    "\n",
    "            # ---------------------\n",
    "            #  Train Discriminator\n",
    "            # ---------------------\n",
    "\n",
    "            # Select a random batch of images\n",
    "            idx = np.random.randint(0, X_train.shape[0], batch_size)\n",
    "            imgs = X_train[idx]\n",
    "            noise = np.random.normal(0, 1, (batch_size, self.latent_dim))\n",
    "\n",
    "            # Generate a batch of new images\n",
    "            gen_imgs = self.generator.predict(noise)\n",
    "\n",
    "            # Train the discriminator\n",
    "            d_loss_real = self.discriminator.train_on_batch(imgs, valid) # 単一バッチデータにつき一度の勾配更新を行う。\n",
    "            d_loss_fake = self.discriminator.train_on_batch(gen_imgs, fake)\n",
    "            # train_on_batchは学習の損失を表すスカラ値（モデルが単一の出力を持ち，かつ評価関数がない場合），\n",
    "            # モデルが複数の出力や評価関数metrics=['accuracy']を持つ場合はスカラ値のリストを戻り値として返す。\n",
    "            d_loss = 0.5 * np.add(d_loss_real, d_loss_fake) # The arrays to be added. If x1.shape != x2.shape,>-broadcast\n",
    "\n",
    "            # ---------------------\n",
    "            #  Train Generator\n",
    "            # ---------------------\n",
    "            noise = np.random.normal(0, 1, (batch_size, self.latent_dim))\n",
    "\n",
    "            # Train the generator (to have the discriminator label samples as valid)\n",
    "            g_loss = self.combined.train_on_batch(noise, valid)\n",
    "\n",
    "            # Plot the progress\n",
    "            # print (\"%d [D loss: %f, acc.: %.2f%%] [G acc.: %.2f%%]\" % (epoch, d_loss[0], 100*d_loss[1], 100*g_loss[1]))\n",
    "            print (\"%d [D loss: %f] [G loss: %f, G acc.: %.2f%%]\" % (epoch, d_loss[0], g_loss[0], 100*g_loss[1]))\n",
    "\n",
    "            # If at save interval => save generated image samples\n",
    "            if epoch % sample_interval == 0:\n",
    "                self.sample_images(epoch)\n",
    "                \n",
    "    def sample_images(self, epoch):\n",
    "        r, c = 5, 5\n",
    "        noise = np.random.normal(0, 1, (r * c, self.latent_dim))\n",
    "        gen_imgs = self.generator.predict(noise)\n",
    "\n",
    "        # Rescale images 0 - 1\n",
    "        gen_imgs = 0.5 * gen_imgs + 0.5\n",
    "        fig, axs = plt.subplots(r, c)\n",
    "        cnt = 0\n",
    "        for i in range(r):\n",
    "            for j in range(c):\n",
    "                axs[i,j].imshow(gen_imgs[cnt, :,:,0], cmap='gray')\n",
    "                axs[i,j].axis('off')\n",
    "                cnt += 1\n",
    "        fig.savefig(\"images/%d.png\" % epoch)\n",
    "        plt.close()"
   ]
  },
  {
   "cell_type": "code",
   "execution_count": null,
   "metadata": {},
   "outputs": [],
   "source": [
    "gan = GAN()"
   ]
  },
  {
   "cell_type": "code",
   "execution_count": null,
   "metadata": {},
   "outputs": [],
   "source": [
    "gan.generator.summary()\n",
    "gan.discriminator.summary()\n",
    "gan.combined.summary()"
   ]
  },
  {
   "cell_type": "code",
   "execution_count": null,
   "metadata": {},
   "outputs": [],
   "source": [
    "gan.train(epochs=30000, batch_size=32, sample_interval=200)"
   ]
  },
  {
   "cell_type": "code",
   "execution_count": null,
   "metadata": {},
   "outputs": [],
   "source": [
    "gan.generator.save('./saved_model/gan_generator.h5')\n",
    "gan.discriminator.save('./saved_model/gan_discriminator.h5')"
   ]
  },
  {
   "cell_type": "code",
   "execution_count": 43,
   "metadata": {},
   "outputs": [],
   "source": [
    "from keras.models import load_model\n",
    "gan.generator = load_model('./saved_model/gan_generator.h5')\n",
    "gan.discriminator = load_model('./saved_model/gan_discriminator.h5')"
   ]
  },
  {
   "cell_type": "code",
   "execution_count": 33,
   "metadata": {},
   "outputs": [
    {
     "data": {
      "text/plain": [
       "(25, 100)"
      ]
     },
     "execution_count": 33,
     "metadata": {},
     "output_type": "execute_result"
    }
   ],
   "source": [
    "r, c = 5, 5\n",
    "noise = np.random.normal(0, 1, (r * c, 100)) # 平均0、標準偏差1の正規分布, shape = (r * c, 100)\n",
    "noise.shape #generatorに(100,1)を入れたらエラー"
   ]
  },
  {
   "cell_type": "code",
   "execution_count": 34,
   "metadata": {},
   "outputs": [
    {
     "data": {
      "image/png": "[encoded data removed]",
      "text/plain": [
       "<Figure size 432x288 with 4 Axes>"
      ]
     },
     "metadata": {
      "needs_background": "light"
     },
     "output_type": "display_data"
    }
   ],
   "source": [
    "gen_imgs = gan.generator.predict(noise) # -1,1の値を持つ。\n",
    "gen_imgs = (0.5 * gen_imgs + 0.5) * 1 #0,1にrescale\n",
    "fig, axs = plt.subplots(2, 2)\n",
    "axs[0,0].axis('off')\n",
    "axs[0,0] = axs[0,0].imshow(gen_imgs[0, :,:,0], cmap='gray') # shape = (1, 100)だとエラーが出る。"
   ]
  },
  {
   "cell_type": "code",
   "execution_count": 18,
   "metadata": {},
   "outputs": [],
   "source": [
    "from PIL import Image"
   ]
  },
  {
   "cell_type": "code",
   "execution_count": 19,
   "metadata": {},
   "outputs": [],
   "source": [
    "r, c = 1, 1\n",
    "noise = np.random.normal(0, 1, (r * c, 100)) # 平均0、標準偏差1の正規分布, shape = (r * c, 100)\n",
    "noise.shape #generatorに(100,1)を入れたらエラー\n",
    "gen_imgs = gan.generator.predict(noise) # -1,1の値を持つ。\n",
    "gen_imgs = (0.5 * gen_imgs + 0.5) * 255 #0,255にrescale\n",
    "gen_imgs = gen_imgs[0].astype('uint8')"
   ]
  },
  {
   "cell_type": "code",
   "execution_count": 20,
   "metadata": {},
   "outputs": [
    {
     "data": {
      "image/png": "[encoded data removed]",
      "text/plain": [
       "<PIL.Image.Image image mode=RGB size=28x28 at 0x7F043C52D198>"
      ]
     },
     "execution_count": 20,
     "metadata": {},
     "output_type": "execute_result"
    }
   ],
   "source": [
    "img_RGB = np.concatenate((gen_imgs, gen_imgs, gen_imgs), axis=2) # 3色にしないとエラーがでる。\n",
    "img = Image.fromarray(img_RGB)\n",
    "img"
   ]
  },
  {
   "cell_type": "code",
   "execution_count": 49,
   "metadata": {},
   "outputs": [
    {
     "data": {
      "image/png": "[encoded data removed]",
      "text/plain": [
       "<PIL.Image.Image image mode=RGB size=28x28 at 0x7F8C306EB898>"
      ]
     },
     "execution_count": 49,
     "metadata": {},
     "output_type": "execute_result"
    }
   ],
   "source": [
    "zero_array = np.zeros((28,28,3), dtype='uint8') # Broadcastで28,28,3にしてしまう。\n",
    "zero_array.dtype\n",
    "gen_imgs = zero_array + gen_imgs\n",
    "img = Image.fromarray(gen_imgs)\n",
    "img"
   ]
  },
  {
   "cell_type": "code",
   "execution_count": 50,
   "metadata": {},
   "outputs": [],
   "source": [
    "(X_train, _), (_, _) = mnist.load_data()"
   ]
  },
  {
   "cell_type": "code",
   "execution_count": 51,
   "metadata": {},
   "outputs": [
    {
     "data": {
      "text/plain": [
       "(60000, 28, 28)"
      ]
     },
     "execution_count": 51,
     "metadata": {},
     "output_type": "execute_result"
    }
   ],
   "source": [
    "# Rescale -1 to 1\n",
    "X_train = X_train / 127.5 - 1.\n",
    "# X_train = np.expand_dims(X_train, axis=3) # Insert a new axis.\n",
    "X_train.shape"
   ]
  },
  {
   "cell_type": "code",
   "execution_count": 88,
   "metadata": {},
   "outputs": [],
   "source": [
    "# compile後にFreezeすると、パラーメータが倍表示される。\n",
    "# https://www.mathgram.xyz/entry/keras/tips/freeze\n",
    "modelA = Sequential([\n",
    "    Dense(100, input_dim=10),\n",
    "    Activation('relu'),\n",
    "    Dense(10),\n",
    "    Activation('softmax'),\n",
    "])\n",
    "\n",
    "modelB = Sequential([\n",
    "    Dense(100, input_dim=10),\n",
    "    Activation('relu'),\n",
    "    Dense(10),\n",
    "    Activation('softmax'),\n",
    "])\n"
   ]
  },
  {
   "cell_type": "code",
   "execution_count": 89,
   "metadata": {},
   "outputs": [
    {
     "name": "stdout",
     "output_type": "stream",
     "text": [
      "_________________________________________________________________\n",
      "Layer (type)                 Output Shape              Param #   \n",
      "=================================================================\n",
      "dense_154 (Dense)            (None, 100)               1100      \n",
      "_________________________________________________________________\n",
      "activation_105 (Activation)  (None, 100)               0         \n",
      "_________________________________________________________________\n",
      "dense_155 (Dense)            (None, 10)                1010      \n",
      "_________________________________________________________________\n",
      "activation_106 (Activation)  (None, 10)                0         \n",
      "=================================================================\n",
      "Total params: 4,220\n",
      "Trainable params: 2,110\n",
      "Non-trainable params: 2,110\n",
      "_________________________________________________________________\n"
     ]
    }
   ],
   "source": [
    "# パラメータが2倍になってしまう。\n",
    "modelA.compile(optimizer=\"adam\", loss=\"categorical_crossentropy\")\n",
    "modelA.trainable = False\n",
    "modelA.summary()"
   ]
  },
  {
   "cell_type": "code",
   "execution_count": 90,
   "metadata": {},
   "outputs": [
    {
     "name": "stdout",
     "output_type": "stream",
     "text": [
      "_________________________________________________________________\n",
      "Layer (type)                 Output Shape              Param #   \n",
      "=================================================================\n",
      "dense_156 (Dense)            (None, 100)               1100      \n",
      "_________________________________________________________________\n",
      "activation_107 (Activation)  (None, 100)               0         \n",
      "_________________________________________________________________\n",
      "dense_157 (Dense)            (None, 10)                1010      \n",
      "_________________________________________________________________\n",
      "activation_108 (Activation)  (None, 10)                0         \n",
      "=================================================================\n",
      "Total params: 2,110\n",
      "Trainable params: 0\n",
      "Non-trainable params: 2,110\n",
      "_________________________________________________________________\n"
     ]
    }
   ],
   "source": [
    "# コンパイルしなくても、Freezeできているように見える。\n",
    "modelB.trainable = False\n",
    "modelB.summary()"
   ]
  },
  {
   "cell_type": "code",
   "execution_count": 93,
   "metadata": {},
   "outputs": [
    {
     "name": "stdout",
     "output_type": "stream",
     "text": [
      "_________________________________________________________________\n",
      "Layer (type)                 Output Shape              Param #   \n",
      "=================================================================\n",
      "dense_156 (Dense)            (None, 100)               1100      \n",
      "_________________________________________________________________\n",
      "activation_107 (Activation)  (None, 100)               0         \n",
      "_________________________________________________________________\n",
      "dense_157 (Dense)            (None, 10)                1010      \n",
      "_________________________________________________________________\n",
      "activation_108 (Activation)  (None, 10)                0         \n",
      "=================================================================\n",
      "Total params: 2,110\n",
      "Trainable params: 2,110\n",
      "Non-trainable params: 0\n",
      "_________________________________________________________________\n"
     ]
    }
   ],
   "source": [
    "# コンパイルするまえにFreezeすれば、パラメータ数は正常。\n",
    "modelB.trainable = True\n",
    "modelB.compile(optimizer=\"adam\", loss=\"categorical_crossentropy\")\n",
    "modelB.summary()"
   ]
  },
  {
   "cell_type": "code",
   "execution_count": 94,
   "metadata": {},
   "outputs": [
    {
     "name": "stdout",
     "output_type": "stream",
     "text": [
      "_________________________________________________________________\n",
      "Layer (type)                 Output Shape              Param #   \n",
      "=================================================================\n",
      "dense_156 (Dense)            (None, 100)               1100      \n",
      "_________________________________________________________________\n",
      "activation_107 (Activation)  (None, 100)               0         \n",
      "_________________________________________________________________\n",
      "dense_157 (Dense)            (None, 10)                1010      \n",
      "_________________________________________________________________\n",
      "activation_108 (Activation)  (None, 10)                0         \n",
      "=================================================================\n",
      "Total params: 2,110\n",
      "Trainable params: 0\n",
      "Non-trainable params: 2,110\n",
      "_________________________________________________________________\n"
     ]
    }
   ],
   "source": [
    "# もう一度コンパイルしてフリーズすれば、パラメータ数は正常。コンパイルしなければ異常。\n",
    "modelB.trainable = False\n",
    "modelB.compile(optimizer=\"adam\", loss=\"categorical_crossentropy\")\n",
    "modelB.summary()"
   ]
  },
  {
   "cell_type": "code",
   "execution_count": null,
   "metadata": {},
   "outputs": [],
   "source": []
  }
 ],
 "metadata": {
  "kernelspec": {
   "display_name": "Python 3",
   "language": "python",
   "name": "python3"
  },
  "language_info": {
   "codemirror_mode": {
    "name": "ipython",
    "version": 3
   },
   "file_extension": ".py",
   "mimetype": "text/x-python",
   "name": "python",
   "nbconvert_exporter": "python",
   "pygments_lexer": "ipython3",
   "version": "3.6.8"
  }
 },
 "nbformat": 4,
 "nbformat_minor": 2
}
